{
 "cells": [
  {
   "cell_type": "code",
   "execution_count": 19,
   "id": "6fbb4982",
   "metadata": {},
   "outputs": [],
   "source": [
    "%matplotlib inline\n",
    "# Add the dependencies\n",
    "import pandas as pd\n",
    "import os"
   ]
  },
  {
   "cell_type": "code",
   "execution_count": 20,
   "metadata": {},
   "outputs": [
    {
     "data": {
      "text/html": [
       "<div>\n",
       "<style scoped>\n",
       "    .dataframe tbody tr th:only-of-type {\n",
       "        vertical-align: middle;\n",
       "    }\n",
       "\n",
       "    .dataframe tbody tr th {\n",
       "        vertical-align: top;\n",
       "    }\n",
       "\n",
       "    .dataframe thead th {\n",
       "        text-align: right;\n",
       "    }\n",
       "</style>\n",
       "<table border=\"1\" class=\"dataframe\">\n",
       "  <thead>\n",
       "    <tr style=\"text-align: right;\">\n",
       "      <th></th>\n",
       "      <th>Analysis</th>\n",
       "      <th>Total Schools</th>\n",
       "      <th>Total Students</th>\n",
       "      <th>Total Budget</th>\n",
       "      <th>Average Math Score</th>\n",
       "      <th>Average Reading Score</th>\n",
       "      <th>% Passing Math</th>\n",
       "      <th>% Passing Reading</th>\n",
       "      <th>% Overall Passing</th>\n",
       "    </tr>\n",
       "  </thead>\n",
       "  <tbody>\n",
       "    <tr>\n",
       "      <th>0</th>\n",
       "      <td>All Students</td>\n",
       "      <td>15</td>\n",
       "      <td>39,170</td>\n",
       "      <td>$24,649,428.00</td>\n",
       "      <td>79.0</td>\n",
       "      <td>81.9</td>\n",
       "      <td>75.0</td>\n",
       "      <td>86.0</td>\n",
       "      <td>65.0</td>\n",
       "    </tr>\n",
       "    <tr>\n",
       "      <th>1</th>\n",
       "      <td>No Thomas 9th Grade</td>\n",
       "      <td>15</td>\n",
       "      <td>39,170</td>\n",
       "      <td>$24,649,428.00</td>\n",
       "      <td>78.9</td>\n",
       "      <td>81.9</td>\n",
       "      <td>74.8</td>\n",
       "      <td>85.7</td>\n",
       "      <td>64.9</td>\n",
       "    </tr>\n",
       "  </tbody>\n",
       "</table>\n",
       "</div>"
      ],
      "text/plain": [
       "              Analysis  Total Schools Total Students    Total Budget  \\\n",
       "0         All Students             15         39,170  $24,649,428.00   \n",
       "1  No Thomas 9th Grade             15         39,170  $24,649,428.00   \n",
       "\n",
       "   Average Math Score  Average Reading Score  % Passing Math  \\\n",
       "0                79.0                   81.9            75.0   \n",
       "1                78.9                   81.9            74.8   \n",
       "\n",
       "   % Passing Reading  % Overall Passing  \n",
       "0               86.0               65.0  \n",
       "1               85.7               64.9  "
      ]
     },
     "metadata": {},
     "output_type": "display_data"
    }
   ],
   "source": [
    "## District Summary Comparison\n",
    "# Load the results of the district data with and without 9th grade Thomas High School Scores\n",
    "load1 = \"Results/districtSummaryAll.csv\"\n",
    "load2 = \"Results/districtSummaryScoresRemoved.csv\"\n",
    "\n",
    "district1_data_df = pd.read_csv(load1)\n",
    "district2_data_df = pd.read_csv(load2)\n",
    "\n",
    "# Combine Data Frames\n",
    "district={'Analysis':['All Students','No Thomas 9th Grade']}\n",
    "district_df=pd.DataFrame(data=district)\n",
    "for column in district1_data_df.columns:\n",
    "    district_df[column]=[district1_data_df[column][0],district2_data_df[column][0]]\n",
    "district_df=district_df[['Analysis','Total Schools','Total Students',\t'Total Budget',\t'Average Math Score','Average Reading Score','% Passing Math','% Passing Reading','% Overall Passing']]\n",
    "\n",
    "# Display and Write to csv\n",
    "district_df.to_csv('./Results/districtSummaryBoth.csv',index=False)\n",
    "display(district_df)\n",
    "\n",
    "\n"
   ]
  },
  {
   "cell_type": "code",
   "execution_count": 105,
   "id": "f77f13a7",
   "metadata": {
    "scrolled": true
   },
   "outputs": [
    {
     "name": "stdout",
     "output_type": "stream",
     "text": [
      "School Name\n",
      "School Type\n",
      "Total School Budget\n",
      "Per Student Budget\n",
      "Spending Ranges (Per Student)\n",
      "School Size\n"
     ]
    },
    {
     "data": {
      "text/html": [
       "<div>\n",
       "<style scoped>\n",
       "    .dataframe tbody tr th:only-of-type {\n",
       "        vertical-align: middle;\n",
       "    }\n",
       "\n",
       "    .dataframe tbody tr th {\n",
       "        vertical-align: top;\n",
       "    }\n",
       "\n",
       "    .dataframe thead th {\n",
       "        text-align: right;\n",
       "    }\n",
       "</style>\n",
       "<table border=\"1\" class=\"dataframe\">\n",
       "  <thead>\n",
       "    <tr style=\"text-align: right;\">\n",
       "      <th></th>\n",
       "      <th>Thomas High School</th>\n",
       "      <th>Average Math Score</th>\n",
       "      <th>Average Reading Score</th>\n",
       "      <th>% Passing Math</th>\n",
       "      <th>% Passing Reading</th>\n",
       "      <th>% Overall Passing</th>\n",
       "    </tr>\n",
       "  </thead>\n",
       "  <tbody>\n",
       "    <tr>\n",
       "      <th>0</th>\n",
       "      <td>All Students</td>\n",
       "      <td>83.4</td>\n",
       "      <td>83.8</td>\n",
       "      <td>93.0</td>\n",
       "      <td>97.0</td>\n",
       "      <td>91.0</td>\n",
       "    </tr>\n",
       "    <tr>\n",
       "      <th>1</th>\n",
       "      <td>No Thomas 9th Grade</td>\n",
       "      <td>83.4</td>\n",
       "      <td>83.9</td>\n",
       "      <td>93.2</td>\n",
       "      <td>97.0</td>\n",
       "      <td>90.6</td>\n",
       "    </tr>\n",
       "  </tbody>\n",
       "</table>\n",
       "</div>"
      ],
      "text/plain": [
       "    Thomas High School Average Math Score Average Reading Score  \\\n",
       "0         All Students               83.4                  83.8   \n",
       "1  No Thomas 9th Grade               83.4                  83.9   \n",
       "\n",
       "  % Passing Math % Passing Reading % Overall Passing  \n",
       "0           93.0              97.0              91.0  \n",
       "1           93.2              97.0              90.6  "
      ]
     },
     "metadata": {},
     "output_type": "display_data"
    }
   ],
   "source": [
    "## per School Summary Comparison (Thomas High School)\n",
    "# Load the results of the district data with and without 9th grade Thomas High School Scores\n",
    "load1 = \"Results/perSchoolSummaryAll.csv\"\n",
    "load2 = \"Results/perSchoolSummaryScoresRemoved.csv\"\n",
    "\n",
    "thomas1_data_df = pd.read_csv(load1)\n",
    "thomas1_data_df=thomas1_data_df[thomas1_data_df['Unnamed: 0'] == \"Thomas High School\"]\n",
    "thomas1_data_df=thomas1_data_df.rename(columns={'Unnamed: 0':'School Name'})\n",
    "# Re-index the new data frame since it is a \"piece\" of a previous one\n",
    "thomas1_data_df.reset_index(drop=True,inplace=True)\n",
    "thomas2_data_df = pd.read_csv(load2)\n",
    "thomas2_data_df=thomas2_data_df[thomas2_data_df['Unnamed: 0'] == \"Thomas High School\"]\n",
    "thomas2_data_df=thomas2_data_df.rename(columns={'Unnamed: 0':'School Name'})\n",
    "thomas2_data_df.reset_index(drop=True,inplace=True)\n",
    "\n",
    "# Combine Data Frames\n",
    "thomas={'Thomas High School':['All Students','No 9th Grade']}\n",
    "thomas_df=pd.DataFrame(data=thomas)\n",
    "for column in thomas1_data_df.columns:\n",
    "    thomas_df[column]=[thomas1_data_df[column][0],thomas2_data_df[column][0]]\n",
    "    try:\n",
    "        thomas_df[column]=thomas_df[column].map(\"{:.1f}\".format)\n",
    "    except ValueError:\n",
    "        print(column)\n",
    "thomas_df=thomas_df[['Thomas High School','Average Math Score','Average Reading Score','% Passing Math','% Passing Reading','% Overall Passing']]\n",
    "display(thomas_df)"
   ]
  },
  {
   "cell_type": "code",
   "execution_count": 101,
   "metadata": {},
   "outputs": [
    {
     "data": {
      "text/plain": [
       "Index(['School Name', 'School Type', 'Total Students', 'Total School Budget',\n",
       "       'Per Student Budget', 'Average Math Score', 'Average Reading Score',\n",
       "       '% Passing Math', '% Passing Reading', '% Overall Passing',\n",
       "       'Spending Ranges (Per Student)', 'School Size'],\n",
       "      dtype='object')"
      ]
     },
     "execution_count": 101,
     "metadata": {},
     "output_type": "execute_result"
    }
   ],
   "source": [
    "thomas1_data_df.columns"
   ]
  },
  {
   "cell_type": "code",
   "execution_count": 82,
   "metadata": {},
   "outputs": [
    {
     "data": {
      "text/plain": [
       "0    15\n",
       "Name: Total Schools, dtype: int64"
      ]
     },
     "execution_count": 82,
     "metadata": {},
     "output_type": "execute_result"
    }
   ],
   "source": [
    "district1_data_df['Total Schools']"
   ]
  },
  {
   "cell_type": "code",
   "execution_count": null,
   "metadata": {},
   "outputs": [],
   "source": []
  }
 ],
 "metadata": {
  "interpreter": {
   "hash": "ce35a52ba9f165f93cf202864f27973ca61cb25b12d1f17d8290329beab40354"
  },
  "kernelspec": {
   "display_name": "Python 3.7.10 64-bit ('PythonData': conda)",
   "name": "python3"
  },
  "language_info": {
   "codemirror_mode": {
    "name": "ipython",
    "version": 3
   },
   "file_extension": ".py",
   "mimetype": "text/x-python",
   "name": "python",
   "nbconvert_exporter": "python",
   "pygments_lexer": "ipython3",
   "version": "3.7.10"
  }
 },
 "nbformat": 4,
 "nbformat_minor": 5
}
